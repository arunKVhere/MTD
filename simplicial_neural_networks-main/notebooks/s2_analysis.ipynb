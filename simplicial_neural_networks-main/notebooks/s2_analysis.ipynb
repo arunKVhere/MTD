{
 "cells": [
  {
   "cell_type": "markdown",
   "metadata": {},
   "source": [
    "# Analysis of Semantic Scholar's paper-author relations\n",
    "(bipartite graph and collaboration complex)\n"
   ]
  },
  {
   "cell_type": "markdown",
   "metadata": {},
   "source": [
    "Todo:\n",
    "* describe the projected networks, e.g., degree distribution, clustering coefficient, mean path length, diameter\n",
    "* correlation between author degree and #citations or #publications\n",
    "* facet (upper) degrees: for a k-facet (i.e., a paper), number of incident k+1 simplices\n",
    "    * many authors are in few groups and very few authors are in many groups\n",
    "    * high facet degrees should correlate with high vertex degree and high publication rank => collaborate more with others, but also with more distinct sets of people\n"
   ]
  },
  {
   "cell_type": "code",
   "execution_count": null,
   "metadata": {},
   "outputs": [],
   "source": [
    "%matplotlib inline"
   ]
  },
  {
   "cell_type": "code",
   "execution_count": null,
   "metadata": {},
   "outputs": [],
   "source": [
    "import numpy as np\n",
    "from scipy import sparse\n",
    "import matplotlib as mpl\n",
    "from matplotlib import pyplot as plt\n",
    "import pandas as pd\n",
    "import networkx as nx\n",
    "from networkx.algorithms import bipartite as nxb\n",
    "from IPython import display as ipd\n",
    "\n",
    "import sys\n",
    "sys.path.append('..')\n",
    "\n",
    "from data.s2_5_bipartite_to_complex import build_features\n",
    "#from data.s2_4_complex_to_matrices import load_matrices"
   ]
  },
  {
   "cell_type": "code",
   "execution_count": null,
   "metadata": {},
   "outputs": [],
   "source": [
    "plt.rcParams['figure.figsize'] = (17, 5)"
   ]
  },
  {
   "cell_type": "code",
   "execution_count": null,
   "metadata": {},
   "outputs": [],
   "source": [
    "def get_link(id, entity='paper'):\n",
    "    api = 'https://api.semanticscholar.org/v1/{}/{}'\n",
    "    webpage = 'https://www.semanticscholar.org/{}/{}'\n",
    "    for base in [api, webpage]:\n",
    "        link = base.format(entity, id)\n",
    "        txt = f'<a href=\"{link}\">{link}</a>'\n",
    "        ipd.display(ipd.HTML(txt))"
   ]
  },
  {
   "cell_type": "code",
   "execution_count": null,
   "metadata": {},
   "outputs": [],
   "source": [
    "def bins(array):\n",
    "    return np.arange(array.min(), array.max() + 2) - 0.5"
   ]
  },
  {
   "cell_type": "markdown",
   "metadata": {},
   "source": [
    "## 1 Data loading"
   ]
  },
  {
   "cell_type": "code",
   "execution_count": null,
   "metadata": {},
   "outputs": [],
   "source": [
    "papers = pd.read_csv('../data/s2_2_bipartite_graph/papers.csv', index_col=0)\n",
    "edges = pd.read_csv('../data/s2_2_bipartite_graph/paper_author_edges.csv')\n",
    "\n",
    "print('paper table: {:,} papers, {:,} features'.format(*papers.shape))\n",
    "print('edges table: {:,} edges'.format(edges.shape[0]))"
   ]
  },
  {
   "cell_type": "code",
   "execution_count": null,
   "metadata": {},
   "outputs": [],
   "source": [
    "# Uncomment to do (part of) the analysis on the full dataset.\n",
    "# papers, edges = load('../data/s2_2_bipartite_graph/paper_author_full.pickle')"
   ]
  },
  {
   "cell_type": "code",
   "execution_count": null,
   "metadata": {},
   "outputs": [],
   "source": [
    "biadjacency = sparse.load_npz('../data/s2_2_bipartite_graph/paper_author_biadjacency.npz')\n",
    "\n",
    "print('biadjacency matrix: {:,} papers, {:,} authors, {:,} edges'.format(\n",
    "    *biadjacency.shape, biadjacency.nnz))"
   ]
  },
  {
   "cell_type": "code",
   "execution_count": null,
   "metadata": {},
   "outputs": [],
   "source": [
    "adjacency_papers = sparse.load_npz('../data/s2_2_bipartite_graph/papers_adjacency.npz')\n",
    "adjacency_authors = sparse.load_npz('../data/s2_2_bipartite_graph/authors_adjacency.npz')\n",
    "\n",
    "print('adjacency matrix: {:,} papers, {:,} edges'.format(adjacency_papers.shape[0], adjacency_papers.nnz // 2))\n",
    "print('adjacency matrix: {:,} authors, {:,} edges'.format(adjacency_authors.shape[0], adjacency_authors.nnz // 2))"
   ]
  },
  {
   "cell_type": "code",
   "execution_count": null,
   "metadata": {},
   "outputs": [],
   "source": [
    "s_node=150250\n",
    "simplices=np.load(f'../data/s2_3_collaboration_complex/{s_node}_simplices.npy',allow_pickle=True)\n",
    "cochains = np.load(f'../data/s2_3_collaboration_complex/{s_node}_cochains.npy',allow_pickle=True)\n",
    "features=build_features(simplices, cochains)"
   ]
  },
  {
   "cell_type": "code",
   "execution_count": null,
   "metadata": {},
   "outputs": [],
   "source": [
    "laplacians=np.load(f'../data/s2_3_collaboration_complex/{s_node}_laplacians.npy', allow_pickle=True)\n",
    "boundaries=np.load(f'../data/s2_3_collaboration_complex/{s_node}_boundaries.npy', allow_pickle=True)\n"
   ]
  },
  {
   "cell_type": "markdown",
   "metadata": {},
   "source": [
    "## 2 Size of collaborations"
   ]
  },
  {
   "cell_type": "code",
   "execution_count": null,
   "metadata": {},
   "outputs": [],
   "source": [
    "papers_per_author = edges.groupby('author')['paper'].count()\n",
    "authors_per_paper = edges.groupby('paper')['author'].count()\n",
    "\n",
    "print('Paper with the most authors ({}):'.format(authors_per_paper.max()))\n",
    "get_link(authors_per_paper.idxmax(), 'paper')\n",
    "\n",
    "print('Author with the most papers ({}):'.format(papers_per_author.max()))\n",
    "get_link(papers_per_author.idxmax(), 'author')\n",
    "\n",
    "fig, ax = plt.subplots()\n",
    "ax.hist(papers_per_author, bins=bins(papers_per_author), log=True);\n",
    "ax.set_title('number of papers per author');\n",
    "ax.set_xlabel('number of papers');\n",
    "ax.set_ylabel('number of authors');\n",
    "\n",
    "fig, ax = plt.subplots()\n",
    "ax.hist(authors_per_paper, bins=bins(authors_per_paper), log=True);\n",
    "ax.set_title('number of authors per paper');\n",
    "ax.set_xlabel('number of authors');\n",
    "ax.set_ylabel('number of papers');"
   ]
  },
  {
   "cell_type": "code",
   "execution_count": null,
   "metadata": {},
   "outputs": [],
   "source": [
    "fig, ax = plt.subplots()\n",
    "ax.hist(adjacency_authors.data, bins=bins(adjacency_authors.data), log=True);\n",
    "ax.set_title('collaboration between authors');\n",
    "ax.set_xlabel('number of papers in common (edge weight)');\n",
    "\n",
    "fig, ax = plt.subplots()\n",
    "ax.hist(adjacency_papers.data, bins=bins(adjacency_papers.data), log=True);\n",
    "ax.set_title('collaboration between papers');\n",
    "ax.set_xlabel('number of authors in common (edge weight)');"
   ]
  },
  {
   "cell_type": "markdown",
   "metadata": {},
   "source": [
    "## 3 Publication year"
   ]
  },
  {
   "cell_type": "code",
   "execution_count": null,
   "metadata": {},
   "outputs": [],
   "source": [
    "ax = papers['year'].hist(bins=bins(papers['year']))\n",
    "ax.set_title('number of papers published per year ({} - {})'.format(papers['year'].min(), papers['year'].max()));"
   ]
  },
  {
   "cell_type": "markdown",
   "metadata": {},
   "source": [
    "## 4 Citations"
   ]
  },
  {
   "cell_type": "code",
   "execution_count": null,
   "metadata": {},
   "outputs": [],
   "source": [
    "print('papers have at least {:,} citations (2019)'.format(papers['citations_2019'].min()))\n",
    "print('papers have at most {:,} citations (2019)'.format(papers['citations_2019'].max()))\n",
    "print('there are {:,} citations in total (2019)'.format(papers['citations_2019'].sum()))\n",
    "print()\n",
    "\n",
    "# print('authors have at least {:,} citations'.format(authors['citations_2019'].min()))\n",
    "# print('authors have at most {:,} citations'.format(authors['citations_2019'].max()))\n",
    "# print('there are {:,} in total'.format(authors['citations_2019'].sum()))\n",
    "# print()\n",
    "\n",
    "print('Most cited paper ({:,} citations):'.format(papers['citations_2019'].max()))\n",
    "get_link(papers['citations_2019'].idxmax(), 'paper')\n",
    "\n",
    "# print('Most cited author ({:,} citations):'.format(authors['citations_2019'].max()))\n",
    "# get_link(authors['citations_2019'].idxmax(), 'author')"
   ]
  },
  {
   "cell_type": "code",
   "execution_count": null,
   "metadata": {},
   "outputs": [],
   "source": [
    "years = [int(column[-4:]) for column in papers.columns if 'citations' in column[:-4]]\n",
    "citations_per_year = np.zeros(len(years))\n",
    "for i, year in enumerate(years):\n",
    "    citations_per_year[i] = papers[f'citations_{year}'].sum()\n",
    "fig, ax = plt.subplots()\n",
    "ax.plot(years, citations_per_year, '.-')\n",
    "ax.set_xticks(years)\n",
    "ax.get_yaxis().set_major_formatter(\n",
    "    mpl.ticker.FuncFormatter(lambda x, p: format(int(x), ',')))\n",
    "ax.set_xlabel('year')\n",
    "ax.set_ylabel('number of citations');"
   ]
  },
  {
   "cell_type": "code",
   "execution_count": null,
   "metadata": {},
   "outputs": [],
   "source": [
    "fig, ax = plt.subplots(figsize=(15, 5))\n",
    "for year in years[::-1]:\n",
    "    ax.hist(papers[f'citations_{year}'], bins=bins(papers['citations_2019']), log=True, label=f'Year {year}', alpha=0.4)\n",
    "ax.set_xlabel('number of citations')\n",
    "ax.set_ylabel('number of papers')\n",
    "ax.legend();"
   ]
  },
  {
   "cell_type": "markdown",
   "metadata": {},
   "source": [
    "## 5 References"
   ]
  },
  {
   "cell_type": "code",
   "execution_count": null,
   "metadata": {},
   "outputs": [],
   "source": [
    "print('papers have at least {:,} references'.format(papers['references'].min()))\n",
    "print('papers have at most {:,} references'.format(papers['references'].max()))\n",
    "\n",
    "print('most referencing paper ({:,} references):'.format(papers['references'].max()))\n",
    "get_link(papers['references'].idxmax(), 'paper')"
   ]
  },
  {
   "cell_type": "code",
   "execution_count": null,
   "metadata": {},
   "outputs": [],
   "source": [
    "papers['references'].hist(bins=bins(papers['references']), log=True);"
   ]
  },
  {
   "cell_type": "markdown",
   "metadata": {},
   "source": [
    "## 6 Collaboration complex between authors"
   ]
  },
  {
   "cell_type": "code",
   "execution_count": null,
   "metadata": {},
   "outputs": [],
   "source": [
    "dimension = len(simplices)\n",
    "sizes = np.array([len(s) for s in simplices])\n",
    "\n",
    "for k, size in enumerate(sizes):\n",
    "    print(f'{size:,} {k}-simplices')\n",
    "print('{:,} simplices in total'.format(np.sum(sizes)))"
   ]
  },
  {
   "cell_type": "code",
   "execution_count": null,
   "metadata": {},
   "outputs": [],
   "source": [
    "fig, ax = plt.subplots()\n",
    "ax.plot(range(dimension), sizes, '.-')\n",
    "ax.set_xlabel('simplex dimension')\n",
    "ax.set_ylabel('number of simplices');"
   ]
  },
  {
   "cell_type": "markdown",
   "metadata": {},
   "source": [
    "## 7 Operators (boundaries and Laplacians)"
   ]
  },
  {
   "cell_type": "code",
   "execution_count": null,
   "metadata": {},
   "outputs": [],
   "source": [
    "for dim, boundary in enumerate(boundaries):\n",
    "    print('{}-boundary matrix: {:,} x {:,}, {:,} non-zeros ({:.2%})'.format(\n",
    "        dim+1, *boundary.shape, boundary.nnz, boundary.nnz/np.prod(boundary.shape)))"
   ]
  },
  {
   "cell_type": "code",
   "execution_count": null,
   "metadata": {},
   "outputs": [],
   "source": [
    "def get_spectrum(laplacian, lowest=False, shift_invert=True):\n",
    "    # Shift-invert mode is much faster, but can raise \"factor is exactly singular\".\n",
    "    largest = sparse.linalg.eigsh(laplacian, k=1, which='LA', return_eigenvectors=False)\n",
    "    if lowest:\n",
    "        if shift_invert:\n",
    "            lowest = sparse.linalg.eigsh(laplacian, k=1, sigma=0, which='LM', return_eigenvectors=False)\n",
    "        else:\n",
    "            lowest = sparse.linalg.eigsh(laplacian, k=1, which='SA', return_eigenvectors=False)\n",
    "        return lowest[0], largest[0]\n",
    "    else:\n",
    "        return largest[0]\n",
    "\n",
    "spectrums = [get_spectrum(laplacian) for laplacian in laplacians]"
   ]
  },
  {
   "cell_type": "code",
   "execution_count": null,
   "metadata": {},
   "outputs": [],
   "source": [
    "for dim, (laplacian, spectrum) in enumerate(zip(laplacians, spectrums)):\n",
    "    print('{}-simplices: {:,} simplices, {:.2%} sparse, spectrum in [0, {:.0f}]'.format(\n",
    "        dim, laplacian.shape[0], laplacian.nnz/np.prod(laplacian.shape), spectrum))\n",
    "    assert laplacian.shape == (len(simplices[dim]), len(simplices[dim]))"
   ]
  },
  {
   "cell_type": "markdown",
   "metadata": {},
   "source": [
    "## 8 Signals (cochains) on collaboration complex"
   ]
  },
  {
   "cell_type": "code",
   "execution_count": null,
   "metadata": {},
   "outputs": [],
   "source": [
    "# Rayleigh quotient between every pair of signals (for all dimensions).\n",
    "n_features = features[0].shape[1]\n",
    "rayleigh = np.empty((len(features), n_features, n_features))\n",
    "for dim in range(len(features)):\n",
    "    rayleigh[dim] = features[dim].T @ laplacians[dim] @ features[dim]\n",
    "    # Division by zero will occur if a signal is all zeros.\n",
    "    rayleigh[dim] /= features[dim].T @ features[dim]"
   ]
  },
  {
   "cell_type": "markdown",
   "metadata": {},
   "source": [
    "Which signals are \"smooth\"?"
   ]
  },
  {
   "cell_type": "code",
   "execution_count": null,
   "metadata": {},
   "outputs": [],
   "source": [
    "#columns = ['citations_1994', 'citations_1999', 'citations_2004', 'citations_2009', 'citations_2014', 'citations_2019', 'references', 'year']\n",
    "columns=['citations_2019']\n",
    "fig, ax = plt.subplots()\n",
    "ax.set_title('smoothness of signals')\n",
    "ax.set_ylabel('Rayleigh quotient')\n",
    "ax.set_xlabel(\"signal's name\")\n",
    "ax.semilogy(np.array([np.diag(r) for r in rayleigh]).T, 'o-')\n",
    "ax.set_xticks(range(len(columns)))\n",
    "ax.set_xticklabels(columns)\n",
    "ax.legend([f'{dim}-cochains ($\\lambda_{{max}} = {spectrums[dim]:.0f}$)' for dim in range(len(features))], loc='lower left')\n",
    "fig.tight_layout();\n",
    "#fig.savefig('smoothness.pdf');"
   ]
  },
  {
   "cell_type": "markdown",
   "metadata": {},
   "source": [
    "Does a signal explain another?"
   ]
  },
  {
   "cell_type": "code",
   "execution_count": null,
   "metadata": {},
   "outputs": [],
   "source": [
    "fig, axes = plt.subplots(1, len(rayleigh))\n",
    "for dim, (r, ax) in enumerate(zip(rayleigh, axes)):\n",
    "    im = ax.imshow(r)\n",
    "    ax.set_title(f'dimension {dim}')"
   ]
  },
  {
   "cell_type": "markdown",
   "metadata": {},
   "source": [
    "## 9 Laplacians' spectra (and Fourier transform)"
   ]
  },
  {
   "cell_type": "code",
   "execution_count": null,
   "metadata": {},
   "outputs": [],
   "source": [
    "eigenvalues, eigenvectors = np.linalg.eigh(laplacians[0].toarray())"
   ]
  },
  {
   "cell_type": "markdown",
   "metadata": {},
   "source": [
    "The spectrum of the 0-Laplacian has a couple of very high eigenvalues."
   ]
  },
  {
   "cell_type": "code",
   "execution_count": null,
   "metadata": {},
   "outputs": [],
   "source": [
    "plt.plot(eigenvalues);\n",
    "print(eigenvalues[:10])"
   ]
  },
  {
   "cell_type": "markdown",
   "metadata": {},
   "source": [
    "Some eigenvalues have high multiplicity. Probably due to the connected cliques formed by the higher-dimensional simplices."
   ]
  },
  {
   "cell_type": "code",
   "execution_count": null,
   "metadata": {},
   "outputs": [],
   "source": [
    "plt.plot(eigenvalues[:-100]);"
   ]
  },
  {
   "cell_type": "code",
   "execution_count": null,
   "metadata": {},
   "outputs": [],
   "source": [
    "multiplicities = [np.sum(eigenvalues == e) for e in range(20)]\n",
    "\n",
    "fig, ax = plt.subplots()\n",
    "ax.plot(multiplicities, 'o-')\n",
    "ax.set_xticks(range(len(multiplicities)))\n",
    "ax.set_title('eigenvalue multiplicities')\n",
    "ax.set_ylabel('muliplicity')\n",
    "ax.set_xlabel('eigenvalue');"
   ]
  },
  {
   "cell_type": "markdown",
   "metadata": {},
   "source": [
    "Fourier transform of 0-cochains. Their spectral content should tell how smooth they are."
   ]
  },
  {
   "cell_type": "code",
   "execution_count": null,
   "metadata": {},
   "outputs": [],
   "source": [
    "fourier = eigenvectors.T @ (features[0] / np.linalg.norm(features[0], axis=0))"
   ]
  },
  {
   "cell_type": "code",
   "execution_count": null,
   "metadata": {},
   "outputs": [],
   "source": [
    "idx_max = -100\n",
    "\n",
    "plt.semilogy(eigenvalues[:idx_max], np.abs(fourier)[:idx_max], '.', alpha=0.8)\n",
    "plt.legend(columns);"
   ]
  }
 ],
 "metadata": {
  "kernelspec": {
   "display_name": "Python 3",
   "language": "python",
   "name": "python3"
  },
  "language_info": {
   "codemirror_mode": {
    "name": "ipython",
    "version": 3
   },
   "file_extension": ".py",
   "mimetype": "text/x-python",
   "name": "python",
   "nbconvert_exporter": "python",
   "pygments_lexer": "ipython3",
   "version": "3.7.4"
  }
 },
 "nbformat": 4,
 "nbformat_minor": 2
}

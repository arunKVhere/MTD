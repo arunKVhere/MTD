{
 "cells": [
  {
   "cell_type": "markdown",
   "metadata": {},
   "source": [
    "## Bipartite collaboration graph to simplicial complex and cochains\n",
    "\n",
    "\n",
    "In this notebook we show how to build a collaboration complex (where each collaboration of authors is represented by a simplex) and citation cochains (which are the number of citations attributed to the collaborations). \n",
    "\n",
    "As point 3 of Section [Data], we will follow the following steps:\n",
    "\n",
    "[Data]:https://github.com/stefaniaebli/simplicial_neural_networks#data\n",
    "\n",
    "1) Downsample the bipartite graph to have a connected simplicial complex.\n",
    "\n",
    "2) From a bipartite graph to a simplicial complex with k-cochains.\n",
    "\n",
    "3) From a simplicial complex to k-degree Laplacians.\n",
    "\n",
    "4) Artificially insert missing data on k-cochains.\n"
   ]
  },
  {
   "cell_type": "code",
   "execution_count": null,
   "metadata": {},
   "outputs": [],
   "source": [
    "import numpy as np\n",
    "import scipy\n",
    "from scipy import sparse\n",
    "import matplotlib.pyplot as plt\n",
    "import pandas as pd\n",
    "\n",
    "import sys\n",
    "sys.path.append('..')\n",
    "from data.s2_4_bipartite_to_downsampled import subsample_node_x,starting_node_random_walk\n",
    "from data.s2_5_bipartite_to_complex import bipart2simpcochain\n",
    "from data.s2_6_complex_to_laplacians import build_boundaries, build_laplacians\n",
    "from data.s2_7_cochains_to_missingdata import build_missing_values, build_damaged_dataset,built_known_values\n",
    "%matplotlib inline"
   ]
  },
  {
   "cell_type": "markdown",
   "metadata": {},
   "source": [
    "### 1) Downsample the bipartite graph to have a connected simplicial complex.\n",
    "\n",
    "First we load the bipartite graph from the Semantic Scholar dataset together with the citations of the articles. Then we will downasample the set of papers to obtain a connected simplicial complex,"
   ]
  },
  {
   "cell_type": "code",
   "execution_count": null,
   "metadata": {
    "scrolled": true
   },
   "outputs": [],
   "source": [
    "adjacency_papers = sparse.load_npz('../data/s2_2_bipartite_graph/papers_adjacency.npz')\n",
    "adjacency = scipy.sparse.load_npz('../data/s2_2_bipartite_graph/paper_author_biadjacency.npz')\n",
    "papers = pd.read_csv('../data/s2_2_bipartite_graph/papers.csv', index_col=0)\n",
    "citations=np.array(papers['citations_2019'])"
   ]
  },
  {
   "cell_type": "code",
   "execution_count": null,
   "metadata": {},
   "outputs": [],
   "source": [
    "starting_node=starting_node_random_walk(adjacency,weights_x=citations, min_weight=100, max_dim=10 )\n",
    "print(\"The starting node of the random walk has ID {}\".format(starting_node))\n",
    "downsample= subsample_node_x(adjacency_papers,adjacency,weights_x=citations, min_weight=5, max_dim=10,length_walk=80)\n",
    "print(\"The number of downsampled papers is {}\".format(len(downsample)))\n",
    "#np.save('../data/s2_3_collaboration_complex/'+str(starting_node)+'_downsampled.npy',downsample"
   ]
  },
  {
   "cell_type": "markdown",
   "metadata": {},
   "source": [
    "### 2) From a bipartite graph to a simplicial complex with k-cochains."
   ]
  },
  {
   "cell_type": "code",
   "execution_count": null,
   "metadata": {},
   "outputs": [],
   "source": [
    "##load downsampling\n",
    "s_node=150250 ###starting node of the random walk\n",
    "\n",
    "output=str(s_node)\n",
    "downsample_papers=np.load('../data/s2_3_collaboration_complex/'+str(s_node)+'_downsampled.npy')\n",
    "\n",
    "simplices, cochains, signals_top = bipart2simpcochain(adjacency, citations, indices_x=downsample_papers, dimension=10)\n",
    "#np.save('../data/s2_3_collaboration_complex/'+output+'_cochains.npy',cochains)\n",
    "#np.save('../data/s2_3_collaboration_complex/'+output+'_simplices.npy',simplices)\n",
    "\n"
   ]
  },
  {
   "cell_type": "markdown",
   "metadata": {},
   "source": [
    "Printing the number of simplices of the simplicial complex"
   ]
  },
  {
   "cell_type": "code",
   "execution_count": null,
   "metadata": {},
   "outputs": [],
   "source": [
    "for k, simp in enumerate(simplices):\n",
    "    print('The number of {}-simplices is {:,}'.format(k, len(simp)))"
   ]
  },
  {
   "cell_type": "markdown",
   "metadata": {},
   "source": [
    "Plotting the distribution of the values of the cochains in dimension $1$, $2$ and $3$."
   ]
  },
  {
   "cell_type": "code",
   "execution_count": null,
   "metadata": {},
   "outputs": [],
   "source": [
    "target_cochain=np.load('../data/s2_3_collaboration_complex/'+output+'_cochains.npy',allow_pickle=True)\n",
    "target_cochain_0=np.array(list(target_cochain[0].values()))  \n",
    "target_cochain_1=np.array(list(target_cochain[1].values()))  \n",
    "target_cochain_2=np.array(list(target_cochain[2].values()))     \n",
    "n_bins = 50\n",
    "\n",
    "#plt.figure(figsize=(8,4))\n",
    "fig, axs = plt.subplots(1, 3, sharey=True, tight_layout=True,figsize=(12,5))\n",
    "\n",
    "axs[0].hist(target_cochain_0, bins=n_bins,color = \"lightgreen\", ec='black',lw=0.2)\n",
    "axs[0].set_xlabel(\"Citations\")\n",
    "axs[0].set_ylabel(\"Count\")\n",
    "axs[0].set_title('Dimension 0')\n",
    "axs[1].hist(target_cochain_1, bins=n_bins,color = \"skyblue\", ec='black',lw=0.2)\n",
    "axs[1].set_title('Dimension 1')\n",
    "axs[1].set_xlabel(\"Citations\")\n",
    "axs[1].set_ylabel(\"Count\")\n",
    "axs[2].hist(target_cochain_2, bins=n_bins,color = \"lightsalmon\", ec='black',lw=0.2)\n",
    "axs[2].set_title('Dimension 2')\n",
    "axs[2].set_xlabel(\"Citations\")\n",
    "axs[2].set_ylabel(\"Count\")\n",
    "fig.suptitle('Distribution citations for seed {} '.format(s_node), y=1.05,fontsize=\"x-large\");\n",
    "#plt.savefig('distribution_cochains_{}.png'.format(s_node))"
   ]
  },
  {
   "cell_type": "markdown",
   "metadata": {},
   "source": [
    "### 3) From a simplicial complex to k-degree Laplacians."
   ]
  },
  {
   "cell_type": "code",
   "execution_count": null,
   "metadata": {},
   "outputs": [],
   "source": [
    "simplices=np.load(f'../data/s2_3_collaboration_complex/{s_node}_simplices.npy',allow_pickle=True)\n",
    "\n",
    "boundaries=build_boundaries(simplices)\n",
    "laplacians=build_laplacians(boundaries)\n",
    "#np.save(f'../data/s2_3_collaboration_complex/{s_node}_laplacians.npy', laplacians)\n",
    "#np.save(f'../data/s2_3_collaboration_complex/{s_node}_boundaries.npy', boundaries)\n"
   ]
  },
  {
   "cell_type": "markdown",
   "metadata": {},
   "source": [
    "Plot density Laplacians"
   ]
  },
  {
   "cell_type": "code",
   "execution_count": null,
   "metadata": {},
   "outputs": [],
   "source": [
    "laplacians = np.load(f'../data/s2_3_collaboration_complex/{s_node}_laplacians.npy',allow_pickle=True)\n",
    "\n",
    "for k, laplacian in enumerate(laplacians):\n",
    "    print('{}-simplices: {:,} simplices, {:.5%} dense'.format(k, laplacian.shape[0], laplacian.nnz/np.prod(laplacian.shape)))\n",
    "    assert laplacian.shape == (len(simplices[k]), len(simplices[k]))"
   ]
  },
  {
   "cell_type": "markdown",
   "metadata": {},
   "source": [
    "### 4) Artificially insert missing data on k-cochains."
   ]
  },
  {
   "cell_type": "code",
   "execution_count": null,
   "metadata": {},
   "outputs": [],
   "source": [
    "percentage_missing_data=[10,20,30,40,50]\n",
    "for percentage in percentage_missing_data:\n",
    "\n",
    "    output=str(s_node)+'_percentage_'+str(percentage)\n",
    "   \n",
    "    missing_values=build_missing_values(simplices,percentage_missing_values=percentage,max_dim=10)\n",
    "    damaged_dataset=build_damaged_dataset(cochains,missing_values,function=np.median)\n",
    "    known_values=built_known_values(missing_values,simplices)\n",
    "    #np.save(f'../data/s2_3_collaboration_complex/{s_node}_percentage_{percentage}_missing_values.npy', missing_values)\n",
    "    #np.save(f'../data/s2_3_collaboration_complex/{s_node}_percentage_{percentage}_input_damaged.npy', damaged_dataset)\n",
    "    #np.save(f'../data/s2_3_collaboration_complex/{s_node}_percentage_{percentage}_known_values.npy', known_values)"
   ]
  },
  {
   "cell_type": "markdown",
   "metadata": {},
   "source": [
    " Plot distribution misisng citations  and known citations in dimension $0$, $1$ and $2$"
   ]
  },
  {
   "cell_type": "code",
   "execution_count": null,
   "metadata": {
    "scrolled": false
   },
   "outputs": [],
   "source": [
    "for percentage in [30]:\n",
    "    for dim in range(0,3):\n",
    "        \n",
    "        output=str(s_node)\n",
    "        target_cochain=np.load('../data/s2_3_collaboration_complex/'+output+'_cochains.npy',allow_pickle=True)\n",
    "        target_cochain=np.array(list(target_cochain[dim].values()))\n",
    "        mask_seen=np.load(f'../data/s2_3_collaboration_complex/{s_node}_percentage_{percentage}_known_values.npy',allow_pickle=True)\n",
    "        mask_seen=list(mask_seen[dim].values())\n",
    "        mask_unseen=np.load(f'../data/s2_3_collaboration_complex/{s_node}_percentage_{percentage}_missing_values.npy',allow_pickle=True)\n",
    "        mask_unseen=list(mask_unseen[dim].values())\n",
    "\n",
    "        n_bins = 50\n",
    "        # Generate a normal distribution, center at x=0 and y=5\n",
    "        x=target_cochain[mask_seen]\n",
    "        y = target_cochain[mask_unseen]\n",
    "\n",
    "        #plt.figure(figsize=(8,4))\n",
    "        fig, axs = plt.subplots(1, 2, sharey=True, tight_layout=True,figsize=(12,5))\n",
    "\n",
    "        # We can set the number of bins with the `bins` kwarg\n",
    "        axs[0].hist(x, bins=n_bins)\n",
    "        axs[0].set_title('Distribution known citations in diemension {}'.format(dim))\n",
    "        axs[1].hist(y, bins=n_bins)\n",
    "        plt.title('Distribution missing citations in dimension {}'.format(dim))\n",
    "        fig.suptitle(\"Distribution percentage of unknown values {0}% \".format(percentage),y=1.1)\n",
    "        plt.show()"
   ]
  },
  {
   "cell_type": "markdown",
   "metadata": {},
   "source": [
    "\n"
   ]
  }
 ],
 "metadata": {
  "kernelspec": {
   "display_name": "Python 3",
   "language": "python",
   "name": "python3"
  },
  "language_info": {
   "codemirror_mode": {
    "name": "ipython",
    "version": 3
   },
   "file_extension": ".py",
   "mimetype": "text/x-python",
   "name": "python",
   "nbconvert_exporter": "python",
   "pygments_lexer": "ipython3",
   "version": "3.7.4"
  }
 },
 "nbformat": 4,
 "nbformat_minor": 2
}
